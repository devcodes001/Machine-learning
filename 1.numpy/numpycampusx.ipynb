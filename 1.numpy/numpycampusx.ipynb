{
  "nbformat": 4,
  "nbformat_minor": 0,
  "metadata": {
    "colab": {
      "provenance": [],
      "authorship_tag": "ABX9TyNT4zs/BBsaF7uzyOchaHyP",
      "include_colab_link": true
    },
    "kernelspec": {
      "name": "python3",
      "display_name": "Python 3"
    },
    "language_info": {
      "name": "python"
    }
  },
  "cells": [
    {
      "cell_type": "markdown",
      "metadata": {
        "id": "view-in-github",
        "colab_type": "text"
      },
      "source": [
        "<a href=\"https://colab.research.google.com/github/devcodes001/Machine-learning/blob/main/1.numpy/numpycampusx.ipynb\" target=\"_parent\"><img src=\"https://colab.research.google.com/assets/colab-badge.svg\" alt=\"Open In Colab\"/></a>"
      ]
    },
    {
      "cell_type": "markdown",
      "source": [
        "#What is numpy?\n",
        "\n",
        "NumPy is the fundamental package for scientific computing in Python. It is a Python library that provides a multidimensional array object, various derived objects (such as masked arrays and matrices), and an assortment of routines for fast operations on arrays, including mathematical, logical, shape manipulation, sorting, selecting, I/O, discrete Fourier transforms, basic linear algebra, basic statistical operations, random simulation and much more.\n",
        "\n",
        "\n",
        "At the core of the NumPy package, is the ndarray object. This encapsulates n-dimensional arrays of homogeneous data types"
      ],
      "metadata": {
        "id": "lFF783PD7ypT"
      }
    },
    {
      "cell_type": "markdown",
      "source": [
        "### Numpy Arrays Vs Python Sequences\n",
        "\n",
        "- NumPy arrays have a fixed size at creation, unlike Python lists (which can grow dynamically). Changing the size of an ndarray will create a new array and delete the original.\n",
        "\n",
        "- The elements in a NumPy array are all required to be of the same data type, and thus will be the same size in memory.\n",
        "\n",
        "- NumPy arrays facilitate advanced mathematical and other types of operations on large numbers of data. Typically, such operations are executed more efficiently and with less code than is possible using Python’s built-in sequences.\n",
        "\n",
        "- A growing plethora of scientific and mathematical Python-based packages are using NumPy arrays; though these typically support Python-sequence input, they convert such input to NumPy arrays prior to processing, and they often output NumPy arrays."
      ],
      "metadata": {
        "id": "HPRzhmwiZkOP"
      }
    },
    {
      "cell_type": "markdown",
      "source": [
        "### Creating Numpy Arrays"
      ],
      "metadata": {
        "id": "0PyrZ724szaG"
      }
    },
    {
      "cell_type": "code",
      "source": [
        "# np.array\n",
        "import numpy as np\n",
        "\n",
        "a = np.array([1,2,3])\n",
        "print(a)"
      ],
      "metadata": {
        "colab": {
          "base_uri": "https://localhost:8080/"
        },
        "id": "V4AVNXrts3sL",
        "outputId": "c3ae745c-d12c-4613-d1f2-6deb92d721b0"
      },
      "execution_count": null,
      "outputs": [
        {
          "output_type": "stream",
          "name": "stdout",
          "text": [
            "[1 2 3]\n"
          ]
        }
      ]
    },
    {
      "cell_type": "code",
      "source": [
        "# 2D and 3D\n",
        "b = np.array([[1,2,3],[4,5,6]])\n",
        "print(b)"
      ],
      "metadata": {
        "colab": {
          "base_uri": "https://localhost:8080/"
        },
        "id": "AAfxD1kCs6R5",
        "outputId": "c80ab9f3-243c-40ea-f1dc-fb0ca1c5ca55"
      },
      "execution_count": null,
      "outputs": [
        {
          "output_type": "stream",
          "name": "stdout",
          "text": [
            "[[1 2 3]\n",
            " [4 5 6]]\n"
          ]
        }
      ]
    },
    {
      "cell_type": "code",
      "source": [
        "c = np.array([[[1,2],[3,4]],[[5,6],[7,8]]])\n",
        "print(c)"
      ],
      "metadata": {
        "colab": {
          "base_uri": "https://localhost:8080/"
        },
        "id": "MyrHdd6J6CrF",
        "outputId": "5c2fe399-9886-4c7d-8df6-1d1860d8d956"
      },
      "execution_count": null,
      "outputs": [
        {
          "output_type": "stream",
          "name": "stdout",
          "text": [
            "[[[1 2]\n",
            "  [3 4]]\n",
            "\n",
            " [[5 6]\n",
            "  [7 8]]]\n"
          ]
        }
      ]
    },
    {
      "cell_type": "code",
      "source": [
        "# dtype\n",
        "np.array([1,2,3],dtype=float)"
      ],
      "metadata": {
        "colab": {
          "base_uri": "https://localhost:8080/"
        },
        "id": "FM8AwUOdFqC7",
        "outputId": "0ca27ebb-5813-4016-ecaf-96e080dc44b5"
      },
      "execution_count": null,
      "outputs": [
        {
          "output_type": "execute_result",
          "data": {
            "text/plain": [
              "array([1., 2., 3.])"
            ]
          },
          "metadata": {},
          "execution_count": 6
        }
      ]
    },
    {
      "cell_type": "code",
      "source": [
        "# np.arange\n",
        "np.arange(1,11,2)"
      ],
      "metadata": {
        "colab": {
          "base_uri": "https://localhost:8080/"
        },
        "id": "ZY187Au_s8vm",
        "outputId": "5bdb2834-e4f3-44fb-93b0-8642579e2952"
      },
      "execution_count": null,
      "outputs": [
        {
          "output_type": "execute_result",
          "data": {
            "text/plain": [
              "array([1, 3, 5, 7, 9])"
            ]
          },
          "metadata": {},
          "execution_count": 7
        }
      ]
    },
    {
      "cell_type": "code",
      "source": [
        "# with reshape\n",
        "np.arange(16).reshape(2,2,2,2)"
      ],
      "metadata": {
        "colab": {
          "base_uri": "https://localhost:8080/"
        },
        "id": "3Gc7BaJZwl7e",
        "outputId": "3ce5f9b6-4637-4b57-a38c-1679aa574c44"
      },
      "execution_count": null,
      "outputs": [
        {
          "output_type": "execute_result",
          "data": {
            "text/plain": [
              "array([[[[ 0,  1],\n",
              "         [ 2,  3]],\n",
              "\n",
              "        [[ 4,  5],\n",
              "         [ 6,  7]]],\n",
              "\n",
              "\n",
              "       [[[ 8,  9],\n",
              "         [10, 11]],\n",
              "\n",
              "        [[12, 13],\n",
              "         [14, 15]]]])"
            ]
          },
          "metadata": {},
          "execution_count": 8
        }
      ]
    },
    {
      "cell_type": "code",
      "source": [
        "# np.ones and np.zeros\n",
        "np.ones((3,4))"
      ],
      "metadata": {
        "colab": {
          "base_uri": "https://localhost:8080/"
        },
        "id": "R2BYpYcGs-9l",
        "outputId": "11b01344-23ac-4311-8952-8be8a5bf07f7"
      },
      "execution_count": null,
      "outputs": [
        {
          "output_type": "execute_result",
          "data": {
            "text/plain": [
              "array([[1., 1., 1., 1.],\n",
              "       [1., 1., 1., 1.],\n",
              "       [1., 1., 1., 1.]])"
            ]
          },
          "metadata": {},
          "execution_count": 9
        }
      ]
    },
    {
      "cell_type": "code",
      "source": [
        "np.zeros((3,4))"
      ],
      "metadata": {
        "colab": {
          "base_uri": "https://localhost:8080/"
        },
        "id": "vOjv_Euj8HGR",
        "outputId": "db7f2d6f-bd7b-4f75-d83f-2fe5f84c70e0"
      },
      "execution_count": null,
      "outputs": [
        {
          "output_type": "execute_result",
          "data": {
            "text/plain": [
              "array([[0., 0., 0., 0.],\n",
              "       [0., 0., 0., 0.],\n",
              "       [0., 0., 0., 0.]])"
            ]
          },
          "metadata": {},
          "execution_count": 10
        }
      ]
    },
    {
      "cell_type": "code",
      "source": [
        "# np.random\n",
        "np.random.random((3,4))"
      ],
      "metadata": {
        "colab": {
          "base_uri": "https://localhost:8080/"
        },
        "id": "fYEeYi7itCRM",
        "outputId": "e4fc190b-8733-469f-e820-a10d3b1cf47a"
      },
      "execution_count": null,
      "outputs": [
        {
          "output_type": "execute_result",
          "data": {
            "text/plain": [
              "array([[0.20342199, 0.82245452, 0.72158863, 0.2557695 ],\n",
              "       [0.06278282, 0.10588511, 0.68731812, 0.15676058],\n",
              "       [0.62562472, 0.92793874, 0.44758877, 0.70338645]])"
            ]
          },
          "metadata": {},
          "execution_count": 11
        }
      ]
    },
    {
      "cell_type": "code",
      "source": [
        "# np.linspace\n",
        "np.linspace(-10,10,10,dtype=int)"
      ],
      "metadata": {
        "colab": {
          "base_uri": "https://localhost:8080/"
        },
        "id": "vel7WrgltE3P",
        "outputId": "a47a7f6b-2485-474e-8308-4f54201636a9"
      },
      "execution_count": null,
      "outputs": [
        {
          "output_type": "execute_result",
          "data": {
            "text/plain": [
              "array([-10,  -8,  -6,  -4,  -2,   1,   3,   5,   7,  10])"
            ]
          },
          "metadata": {},
          "execution_count": 12
        }
      ]
    },
    {
      "cell_type": "code",
      "source": [
        "# np.identity\n",
        "np.identity(3)"
      ],
      "metadata": {
        "colab": {
          "base_uri": "https://localhost:8080/"
        },
        "id": "ewyMuXh1tJzi",
        "outputId": "9111e7f8-7ac0-4f5e-d0cb-aab6fc6bae75"
      },
      "execution_count": null,
      "outputs": [
        {
          "output_type": "execute_result",
          "data": {
            "text/plain": [
              "array([[1., 0., 0.],\n",
              "       [0., 1., 0.],\n",
              "       [0., 0., 1.]])"
            ]
          },
          "metadata": {},
          "execution_count": 13
        }
      ]
    },
    {
      "cell_type": "markdown",
      "source": [
        "### Array Attributes"
      ],
      "metadata": {
        "id": "LphXpjZJtNyI"
      }
    },
    {
      "cell_type": "code",
      "source": [
        "a1 = np.arange(10,dtype=np.int32)\n",
        "a2 = np.arange(12,dtype=float).reshape(3,4)\n",
        "a3 = np.arange(8).reshape(2,2,2)\n",
        "\n",
        "a3"
      ],
      "metadata": {
        "colab": {
          "base_uri": "https://localhost:8080/"
        },
        "id": "UXnB5dIEFOgD",
        "outputId": "845a7917-2aa4-4197-a145-91af5d73b9c2"
      },
      "execution_count": null,
      "outputs": [
        {
          "output_type": "execute_result",
          "data": {
            "text/plain": [
              "array([[[0, 1],\n",
              "        [2, 3]],\n",
              "\n",
              "       [[4, 5],\n",
              "        [6, 7]]])"
            ]
          },
          "metadata": {},
          "execution_count": 14
        }
      ]
    },
    {
      "cell_type": "code",
      "source": [
        "# ndim\n",
        "a3.ndim"
      ],
      "metadata": {
        "colab": {
          "base_uri": "https://localhost:8080/"
        },
        "id": "qib4oDFptRKN",
        "outputId": "fed92fe3-d9a4-4d7f-8486-d6546494342e"
      },
      "execution_count": null,
      "outputs": [
        {
          "output_type": "execute_result",
          "data": {
            "text/plain": [
              "3"
            ]
          },
          "metadata": {},
          "execution_count": 15
        }
      ]
    },
    {
      "cell_type": "code",
      "source": [
        "# shape\n",
        "print(a3.shape)\n",
        "a3"
      ],
      "metadata": {
        "colab": {
          "base_uri": "https://localhost:8080/"
        },
        "id": "InUvH8KGtSRv",
        "outputId": "2d5f3b3c-998c-4b52-ac4b-233d530da15c"
      },
      "execution_count": null,
      "outputs": [
        {
          "output_type": "stream",
          "name": "stdout",
          "text": [
            "(2, 2, 2)\n"
          ]
        },
        {
          "output_type": "execute_result",
          "data": {
            "text/plain": [
              "array([[[0, 1],\n",
              "        [2, 3]],\n",
              "\n",
              "       [[4, 5],\n",
              "        [6, 7]]])"
            ]
          },
          "metadata": {},
          "execution_count": 16
        }
      ]
    },
    {
      "cell_type": "code",
      "source": [
        "# size\n",
        "print(a2.size)\n",
        "a2"
      ],
      "metadata": {
        "colab": {
          "base_uri": "https://localhost:8080/"
        },
        "id": "9Dko5610tT-Z",
        "outputId": "60e0f50e-15dd-4dc1-e8e7-a18def229440"
      },
      "execution_count": null,
      "outputs": [
        {
          "output_type": "stream",
          "name": "stdout",
          "text": [
            "12\n"
          ]
        },
        {
          "output_type": "execute_result",
          "data": {
            "text/plain": [
              "array([[ 0.,  1.,  2.,  3.],\n",
              "       [ 4.,  5.,  6.,  7.],\n",
              "       [ 8.,  9., 10., 11.]])"
            ]
          },
          "metadata": {},
          "execution_count": 17
        }
      ]
    },
    {
      "cell_type": "code",
      "source": [
        "# itemsize\n",
        "a3.itemsize"
      ],
      "metadata": {
        "colab": {
          "base_uri": "https://localhost:8080/"
        },
        "id": "wDFdHtH3tV1Z",
        "outputId": "91b94d1f-89c4-4c49-e983-cdf8e9a15816"
      },
      "execution_count": null,
      "outputs": [
        {
          "output_type": "execute_result",
          "data": {
            "text/plain": [
              "8"
            ]
          },
          "metadata": {},
          "execution_count": 18
        }
      ]
    },
    {
      "cell_type": "code",
      "source": [
        "# dtype\n",
        "print(a1.dtype)\n",
        "print(a2.dtype)\n",
        "print(a3.dtype)\n",
        "\n"
      ],
      "metadata": {
        "colab": {
          "base_uri": "https://localhost:8080/"
        },
        "id": "Pik7FgEVtXDj",
        "outputId": "1368bde5-48d4-4ae9-dbe0-f98a716800b1"
      },
      "execution_count": null,
      "outputs": [
        {
          "output_type": "stream",
          "name": "stdout",
          "text": [
            "int32\n",
            "float64\n",
            "int64\n"
          ]
        }
      ]
    },
    {
      "cell_type": "markdown",
      "source": [
        "### Changing Datatype"
      ],
      "metadata": {
        "id": "7Ase0eFWtcFl"
      }
    },
    {
      "cell_type": "code",
      "source": [
        "# astype\n",
        "a3.astype(np.int32)"
      ],
      "metadata": {
        "colab": {
          "base_uri": "https://localhost:8080/"
        },
        "id": "DZPEFqhotbFS",
        "outputId": "1b646311-378c-4964-b05b-bf8c03c969cc"
      },
      "execution_count": null,
      "outputs": [
        {
          "output_type": "execute_result",
          "data": {
            "text/plain": [
              "array([[[0, 1],\n",
              "        [2, 3]],\n",
              "\n",
              "       [[4, 5],\n",
              "        [6, 7]]], dtype=int32)"
            ]
          },
          "metadata": {},
          "execution_count": 20
        }
      ]
    },
    {
      "cell_type": "markdown",
      "source": [
        "### Array Operations"
      ],
      "metadata": {
        "id": "k-y-aaV9u52l"
      }
    },
    {
      "cell_type": "code",
      "source": [
        "a1 = np.arange(12).reshape(3,4)\n",
        "a2 = np.arange(12,24).reshape(3,4)\n",
        "\n",
        "a2"
      ],
      "metadata": {
        "colab": {
          "base_uri": "https://localhost:8080/"
        },
        "id": "mIk8tk53HnOW",
        "outputId": "c0fec6fc-d46f-4dd6-e6ae-63da4c04c5fb"
      },
      "execution_count": null,
      "outputs": [
        {
          "output_type": "execute_result",
          "data": {
            "text/plain": [
              "array([[12, 13, 14, 15],\n",
              "       [16, 17, 18, 19],\n",
              "       [20, 21, 22, 23]])"
            ]
          },
          "metadata": {},
          "execution_count": 21
        }
      ]
    },
    {
      "cell_type": "code",
      "source": [
        "# scalar operations\n",
        "\n",
        "# arithmetic\n",
        "a1 ** 2"
      ],
      "metadata": {
        "colab": {
          "base_uri": "https://localhost:8080/"
        },
        "id": "vtQrWQKD87Fn",
        "outputId": "ae7803c3-b6bf-4722-d09c-a2f825c75057"
      },
      "execution_count": null,
      "outputs": [
        {
          "output_type": "execute_result",
          "data": {
            "text/plain": [
              "array([[  0,   1,   4,   9],\n",
              "       [ 16,  25,  36,  49],\n",
              "       [ 64,  81, 100, 121]])"
            ]
          },
          "metadata": {},
          "execution_count": 22
        }
      ]
    },
    {
      "cell_type": "code",
      "source": [
        "# relational\n",
        "a2 == 15"
      ],
      "metadata": {
        "colab": {
          "base_uri": "https://localhost:8080/"
        },
        "id": "mCgPxTzQrtte",
        "outputId": "7f095109-2b8d-468f-eca5-4a82f4cfdb6c"
      },
      "execution_count": null,
      "outputs": [
        {
          "output_type": "execute_result",
          "data": {
            "text/plain": [
              "array([[False, False, False,  True],\n",
              "       [False, False, False, False],\n",
              "       [False, False, False, False]])"
            ]
          },
          "metadata": {},
          "execution_count": 23
        }
      ]
    },
    {
      "cell_type": "code",
      "source": [
        "# vector operations\n",
        "# arithmetic\n",
        "a1 ** a2"
      ],
      "metadata": {
        "colab": {
          "base_uri": "https://localhost:8080/"
        },
        "id": "E2S3xDRxrt5D",
        "outputId": "f8eb4c25-51b9-4778-a9d1-e07d342ea466"
      },
      "execution_count": null,
      "outputs": [
        {
          "output_type": "execute_result",
          "data": {
            "text/plain": [
              "array([[                   0,                    1,                16384,\n",
              "                    14348907],\n",
              "       [          4294967296,         762939453125,      101559956668416,\n",
              "           11398895185373143],\n",
              "       [ 1152921504606846976, -1261475310744950487,  1864712049423024128,\n",
              "         6839173302027254275]])"
            ]
          },
          "metadata": {},
          "execution_count": 24
        }
      ]
    },
    {
      "cell_type": "markdown",
      "source": [
        "### Array Functions"
      ],
      "metadata": {
        "id": "AQZgntYTu8ot"
      }
    },
    {
      "cell_type": "code",
      "source": [
        "a1 = np.random.random((3,3))\n",
        "a1 = np.round(a1*100)\n",
        "a1"
      ],
      "metadata": {
        "colab": {
          "base_uri": "https://localhost:8080/"
        },
        "id": "CHUj0a_dIP4F",
        "outputId": "98358c14-7f8f-4988-b3b7-db24ac9b51e1"
      },
      "execution_count": null,
      "outputs": [
        {
          "output_type": "execute_result",
          "data": {
            "text/plain": [
              "array([[84., 81., 94.],\n",
              "       [69., 80., 93.],\n",
              "       [ 7., 79., 27.]])"
            ]
          },
          "metadata": {},
          "execution_count": 25
        }
      ]
    },
    {
      "cell_type": "code",
      "source": [
        "# max/min/sum/prod\n",
        "# 0 -> col and 1 -> row\n",
        "np.prod(a1,axis=0)"
      ],
      "metadata": {
        "colab": {
          "base_uri": "https://localhost:8080/"
        },
        "id": "J1EWNET29Urx",
        "outputId": "8b37cb52-2d09-4806-a543-2b232b0c7dfc"
      },
      "execution_count": null,
      "outputs": [
        {
          "output_type": "execute_result",
          "data": {
            "text/plain": [
              "array([ 40572., 511920., 236034.])"
            ]
          },
          "metadata": {},
          "execution_count": 26
        }
      ]
    },
    {
      "cell_type": "code",
      "source": [
        "# mean/median/std/var\n",
        "np.var(a1,axis=1)"
      ],
      "metadata": {
        "colab": {
          "base_uri": "https://localhost:8080/"
        },
        "id": "JAlMLFkds9KC",
        "outputId": "47969d9b-1ebc-440c-b24e-874eacb6b564"
      },
      "execution_count": null,
      "outputs": [
        {
          "output_type": "execute_result",
          "data": {
            "text/plain": [
              "array([ 30.88888889,  96.22222222, 920.88888889])"
            ]
          },
          "metadata": {},
          "execution_count": 27
        }
      ]
    },
    {
      "cell_type": "code",
      "source": [
        "# trigonomoetric functions\n",
        "np.sin(a1)"
      ],
      "metadata": {
        "colab": {
          "base_uri": "https://localhost:8080/"
        },
        "id": "vwLoQQVqs-m-",
        "outputId": "1746c958-2705-42d2-af73-40b7bdfc7f09"
      },
      "execution_count": null,
      "outputs": [
        {
          "output_type": "execute_result",
          "data": {
            "text/plain": [
              "array([[ 0.73319032, -0.62988799, -0.24525199],\n",
              "       [-0.11478481, -0.99388865, -0.94828214],\n",
              "       [ 0.6569866 , -0.44411267,  0.95637593]])"
            ]
          },
          "metadata": {},
          "execution_count": 28
        }
      ]
    },
    {
      "cell_type": "code",
      "source": [
        "# dot product\n",
        "a2 = np.arange(12).reshape(3,4)\n",
        "a3 = np.arange(12,24).reshape(4,3)\n",
        "\n",
        "np.dot(a2,a3)"
      ],
      "metadata": {
        "colab": {
          "base_uri": "https://localhost:8080/"
        },
        "id": "RoEtYuiytFm1",
        "outputId": "881c9e16-a225-4082-b162-f08f48e96ded"
      },
      "execution_count": null,
      "outputs": [
        {
          "output_type": "execute_result",
          "data": {
            "text/plain": [
              "array([[114, 120, 126],\n",
              "       [378, 400, 422],\n",
              "       [642, 680, 718]])"
            ]
          },
          "metadata": {},
          "execution_count": 29
        }
      ]
    },
    {
      "cell_type": "code",
      "source": [
        "# log and exponents\n",
        "np.exp(a1)"
      ],
      "metadata": {
        "colab": {
          "base_uri": "https://localhost:8080/"
        },
        "id": "qd7GmrgEtH6i",
        "outputId": "a472fb95-77df-4230-e91e-3d84f2a9c8c6"
      },
      "execution_count": null,
      "outputs": [
        {
          "output_type": "execute_result",
          "data": {
            "text/plain": [
              "array([[3.02507732e+36, 1.50609731e+35, 6.66317622e+40],\n",
              "       [9.25378173e+29, 5.54062238e+34, 2.45124554e+40],\n",
              "       [1.09663316e+03, 2.03828107e+34, 5.32048241e+11]])"
            ]
          },
          "metadata": {},
          "execution_count": 30
        }
      ]
    },
    {
      "cell_type": "code",
      "source": [
        "# round/floor/ceil\n",
        "\n",
        "np.ceil(np.random.random((2,3))*100)"
      ],
      "metadata": {
        "colab": {
          "base_uri": "https://localhost:8080/"
        },
        "id": "EOXnVCZhtKk1",
        "outputId": "47b49250-ed04-4862-929b-b24e1fcab6df"
      },
      "execution_count": null,
      "outputs": [
        {
          "output_type": "execute_result",
          "data": {
            "text/plain": [
              "array([[66., 86., 38.],\n",
              "       [99., 86., 13.]])"
            ]
          },
          "metadata": {},
          "execution_count": 31
        }
      ]
    },
    {
      "cell_type": "markdown",
      "source": [
        "### Indexing and Slicing"
      ],
      "metadata": {
        "id": "2pYZJMrAuvuv"
      }
    },
    {
      "cell_type": "code",
      "source": [
        "a1 = np.arange(10)\n",
        "a2 = np.arange(12).reshape(3,4)\n",
        "a3 = np.arange(8).reshape(2,2,2)\n",
        "\n",
        "a3"
      ],
      "metadata": {
        "colab": {
          "base_uri": "https://localhost:8080/"
        },
        "id": "v1LynzX9u2R-",
        "outputId": "1ac055d6-a381-4bf9-8fe1-08af77dec471"
      },
      "execution_count": null,
      "outputs": [
        {
          "output_type": "execute_result",
          "data": {
            "text/plain": [
              "array([[[0, 1],\n",
              "        [2, 3]],\n",
              "\n",
              "       [[4, 5],\n",
              "        [6, 7]]])"
            ]
          },
          "metadata": {},
          "execution_count": 32
        }
      ]
    },
    {
      "cell_type": "code",
      "source": [
        "a1"
      ],
      "metadata": {
        "colab": {
          "base_uri": "https://localhost:8080/"
        },
        "id": "qyFbwR9Ku2YE",
        "outputId": "cff0dd2d-2d0d-4977-b842-6f85fc6b0a46"
      },
      "execution_count": null,
      "outputs": [
        {
          "output_type": "execute_result",
          "data": {
            "text/plain": [
              "array([0, 1, 2, 3, 4, 5, 6, 7, 8, 9])"
            ]
          },
          "metadata": {},
          "execution_count": 33
        }
      ]
    },
    {
      "cell_type": "code",
      "source": [
        "a2"
      ],
      "metadata": {
        "colab": {
          "base_uri": "https://localhost:8080/"
        },
        "id": "Q2IbBdEXu2a5",
        "outputId": "c6b924ac-ffab-49f6-bea6-61b68a827dff"
      },
      "execution_count": null,
      "outputs": [
        {
          "output_type": "execute_result",
          "data": {
            "text/plain": [
              "array([[ 0,  1,  2,  3],\n",
              "       [ 4,  5,  6,  7],\n",
              "       [ 8,  9, 10, 11]])"
            ]
          },
          "metadata": {},
          "execution_count": 34
        }
      ]
    },
    {
      "cell_type": "code",
      "source": [
        "a2[1,0]"
      ],
      "metadata": {
        "colab": {
          "base_uri": "https://localhost:8080/"
        },
        "id": "GIR5YhVzu2dc",
        "outputId": "d672c3b8-1084-4d6d-989e-44166b91f3fb"
      },
      "execution_count": null,
      "outputs": [
        {
          "output_type": "execute_result",
          "data": {
            "text/plain": [
              "4"
            ]
          },
          "metadata": {},
          "execution_count": 35
        }
      ]
    },
    {
      "cell_type": "code",
      "source": [
        "a3"
      ],
      "metadata": {
        "colab": {
          "base_uri": "https://localhost:8080/"
        },
        "id": "IbM-KNY3HP9-",
        "outputId": "af19b2c3-b891-479f-f35b-17a2a81e54c6"
      },
      "execution_count": null,
      "outputs": [
        {
          "output_type": "execute_result",
          "data": {
            "text/plain": [
              "array([[[0, 1],\n",
              "        [2, 3]],\n",
              "\n",
              "       [[4, 5],\n",
              "        [6, 7]]])"
            ]
          },
          "metadata": {},
          "execution_count": 36
        }
      ]
    },
    {
      "cell_type": "code",
      "source": [
        "a3[1,0,1]"
      ],
      "metadata": {
        "colab": {
          "base_uri": "https://localhost:8080/"
        },
        "id": "xG7HU0RgHQD-",
        "outputId": "d96b1334-38ce-4e0a-cf98-9f7c6950ab6d"
      },
      "execution_count": null,
      "outputs": [
        {
          "output_type": "execute_result",
          "data": {
            "text/plain": [
              "5"
            ]
          },
          "metadata": {},
          "execution_count": 37
        }
      ]
    },
    {
      "cell_type": "code",
      "source": [
        "a3[1,1,0]"
      ],
      "metadata": {
        "colab": {
          "base_uri": "https://localhost:8080/"
        },
        "id": "3EhcikSWHQKO",
        "outputId": "ba4b0666-f9db-46e3-82e0-d6fa46642fb3"
      },
      "execution_count": null,
      "outputs": [
        {
          "output_type": "execute_result",
          "data": {
            "text/plain": [
              "6"
            ]
          },
          "metadata": {},
          "execution_count": 38
        }
      ]
    },
    {
      "cell_type": "code",
      "source": [
        "a1"
      ],
      "metadata": {
        "colab": {
          "base_uri": "https://localhost:8080/"
        },
        "id": "_cgU2A52HQO0",
        "outputId": "dc4cd066-adf9-41aa-dc0e-7833d751cee7"
      },
      "execution_count": null,
      "outputs": [
        {
          "output_type": "execute_result",
          "data": {
            "text/plain": [
              "array([0, 1, 2, 3, 4, 5, 6, 7, 8, 9])"
            ]
          },
          "metadata": {},
          "execution_count": 39
        }
      ]
    },
    {
      "cell_type": "code",
      "source": [
        "a1[2:5:2]"
      ],
      "metadata": {
        "colab": {
          "base_uri": "https://localhost:8080/"
        },
        "id": "HnFM0Wa5IMw2",
        "outputId": "8d812b92-972c-427e-8fa1-1ef1506c8215"
      },
      "execution_count": null,
      "outputs": [
        {
          "output_type": "execute_result",
          "data": {
            "text/plain": [
              "array([2, 4])"
            ]
          },
          "metadata": {},
          "execution_count": 40
        }
      ]
    },
    {
      "cell_type": "code",
      "source": [
        "a2"
      ],
      "metadata": {
        "colab": {
          "base_uri": "https://localhost:8080/"
        },
        "id": "SDWOK56EIM3n",
        "outputId": "af6d4908-8d99-4952-91a0-afd82b68f9dc"
      },
      "execution_count": null,
      "outputs": [
        {
          "output_type": "execute_result",
          "data": {
            "text/plain": [
              "array([[ 0,  1,  2,  3],\n",
              "       [ 4,  5,  6,  7],\n",
              "       [ 8,  9, 10, 11]])"
            ]
          },
          "metadata": {},
          "execution_count": 41
        }
      ]
    },
    {
      "cell_type": "code",
      "source": [
        "a2[0:2,1::2]"
      ],
      "metadata": {
        "colab": {
          "base_uri": "https://localhost:8080/"
        },
        "id": "q55x6VoiKmpX",
        "outputId": "3caf202c-5689-413c-8f14-240167ae3474"
      },
      "execution_count": null,
      "outputs": [
        {
          "output_type": "execute_result",
          "data": {
            "text/plain": [
              "array([[1, 3],\n",
              "       [5, 7]])"
            ]
          },
          "metadata": {},
          "execution_count": 42
        }
      ]
    },
    {
      "cell_type": "code",
      "source": [
        "a2[::2,1::2]"
      ],
      "metadata": {
        "colab": {
          "base_uri": "https://localhost:8080/"
        },
        "id": "t2hA9ZJNJOBW",
        "outputId": "8dc8175f-ce00-4bc2-eff0-5cf9c7cdbc39"
      },
      "execution_count": null,
      "outputs": [
        {
          "output_type": "execute_result",
          "data": {
            "text/plain": [
              "array([[ 1,  3],\n",
              "       [ 9, 11]])"
            ]
          },
          "metadata": {},
          "execution_count": 43
        }
      ]
    },
    {
      "cell_type": "code",
      "source": [
        "a2[1,::3]"
      ],
      "metadata": {
        "colab": {
          "base_uri": "https://localhost:8080/"
        },
        "id": "hubSAa0eKSCt",
        "outputId": "cba46262-ac22-492b-ae24-129037b7b216"
      },
      "execution_count": null,
      "outputs": [
        {
          "output_type": "execute_result",
          "data": {
            "text/plain": [
              "array([4, 7])"
            ]
          },
          "metadata": {},
          "execution_count": 44
        }
      ]
    },
    {
      "cell_type": "code",
      "source": [
        "a2[0,:]"
      ],
      "metadata": {
        "colab": {
          "base_uri": "https://localhost:8080/"
        },
        "id": "mi2B5NN9IM-B",
        "outputId": "9deb5b0d-e81f-40c3-d153-0b0ac4bdd88e"
      },
      "execution_count": null,
      "outputs": [
        {
          "output_type": "execute_result",
          "data": {
            "text/plain": [
              "array([0, 1, 2, 3])"
            ]
          },
          "metadata": {},
          "execution_count": 45
        }
      ]
    },
    {
      "cell_type": "code",
      "source": [
        "a2[:,2]"
      ],
      "metadata": {
        "colab": {
          "base_uri": "https://localhost:8080/"
        },
        "id": "u7dQcPKpINDS",
        "outputId": "d2818433-0d8d-43de-b1f7-2c6473bf508d"
      },
      "execution_count": null,
      "outputs": [
        {
          "output_type": "execute_result",
          "data": {
            "text/plain": [
              "array([ 2,  6, 10])"
            ]
          },
          "metadata": {},
          "execution_count": 46
        }
      ]
    },
    {
      "cell_type": "code",
      "source": [
        "a2[1:,1:3]"
      ],
      "metadata": {
        "colab": {
          "base_uri": "https://localhost:8080/"
        },
        "id": "GYjyXNKnINTA",
        "outputId": "f6bea8c4-2d42-4823-c351-9a9ef1990b50"
      },
      "execution_count": null,
      "outputs": [
        {
          "output_type": "execute_result",
          "data": {
            "text/plain": [
              "array([[ 5,  6],\n",
              "       [ 9, 10]])"
            ]
          },
          "metadata": {},
          "execution_count": 47
        }
      ]
    },
    {
      "cell_type": "code",
      "source": [
        "a3 = np.arange(27).reshape(3,3,3)\n",
        "a3"
      ],
      "metadata": {
        "colab": {
          "base_uri": "https://localhost:8080/"
        },
        "id": "Z-24y62tK7KO",
        "outputId": "fe6958cd-e37b-4c31-c40a-688451df9d8b"
      },
      "execution_count": null,
      "outputs": [
        {
          "output_type": "execute_result",
          "data": {
            "text/plain": [
              "array([[[ 0,  1,  2],\n",
              "        [ 3,  4,  5],\n",
              "        [ 6,  7,  8]],\n",
              "\n",
              "       [[ 9, 10, 11],\n",
              "        [12, 13, 14],\n",
              "        [15, 16, 17]],\n",
              "\n",
              "       [[18, 19, 20],\n",
              "        [21, 22, 23],\n",
              "        [24, 25, 26]]])"
            ]
          },
          "metadata": {},
          "execution_count": 48
        }
      ]
    },
    {
      "cell_type": "code",
      "source": [
        "a3[::2,0,::2]"
      ],
      "metadata": {
        "colab": {
          "base_uri": "https://localhost:8080/"
        },
        "id": "DB1bM8NCMTub",
        "outputId": "b6f493fe-1666-4576-9568-370130bbaffe"
      },
      "execution_count": null,
      "outputs": [
        {
          "output_type": "execute_result",
          "data": {
            "text/plain": [
              "array([[ 0,  2],\n",
              "       [18, 20]])"
            ]
          },
          "metadata": {},
          "execution_count": 49
        }
      ]
    },
    {
      "cell_type": "code",
      "source": [
        "a3[2,1:,1:]"
      ],
      "metadata": {
        "colab": {
          "base_uri": "https://localhost:8080/"
        },
        "id": "gPOgRWfNLxPF",
        "outputId": "f6c4eadb-3e0e-472d-fd2f-0c0ae704c0dc"
      },
      "execution_count": null,
      "outputs": [
        {
          "output_type": "execute_result",
          "data": {
            "text/plain": [
              "array([[22, 23],\n",
              "       [25, 26]])"
            ]
          },
          "metadata": {},
          "execution_count": 50
        }
      ]
    },
    {
      "cell_type": "code",
      "source": [
        "a3[0,1,:]"
      ],
      "metadata": {
        "colab": {
          "base_uri": "https://localhost:8080/"
        },
        "id": "S3OJJAMXK7RV",
        "outputId": "166e6d2b-274b-480d-8a35-220f67aff731"
      },
      "execution_count": null,
      "outputs": [
        {
          "output_type": "execute_result",
          "data": {
            "text/plain": [
              "array([3, 4, 5])"
            ]
          },
          "metadata": {},
          "execution_count": 51
        }
      ]
    },
    {
      "cell_type": "markdown",
      "source": [
        "### Iterating"
      ],
      "metadata": {
        "id": "dUv9qM1yuIKJ"
      }
    },
    {
      "cell_type": "code",
      "source": [
        "a1\n",
        "\n",
        "for i in a1:\n",
        "  print(i)"
      ],
      "metadata": {
        "colab": {
          "base_uri": "https://localhost:8080/"
        },
        "id": "lNgaCad6uKhm",
        "outputId": "dfc86528-3584-4098-f5f2-3bd3bbc1c7c6"
      },
      "execution_count": null,
      "outputs": [
        {
          "output_type": "stream",
          "name": "stdout",
          "text": [
            "0\n",
            "1\n",
            "2\n",
            "3\n",
            "4\n",
            "5\n",
            "6\n",
            "7\n",
            "8\n",
            "9\n"
          ]
        }
      ]
    },
    {
      "cell_type": "code",
      "source": [
        "a2"
      ],
      "metadata": {
        "colab": {
          "base_uri": "https://localhost:8080/"
        },
        "id": "jNIsE0YFM6ZN",
        "outputId": "370a1914-93cd-4d7c-f546-dcb646f8d60f"
      },
      "execution_count": null,
      "outputs": [
        {
          "output_type": "execute_result",
          "data": {
            "text/plain": [
              "array([[ 0,  1,  2,  3],\n",
              "       [ 4,  5,  6,  7],\n",
              "       [ 8,  9, 10, 11]])"
            ]
          },
          "metadata": {},
          "execution_count": 53
        }
      ]
    },
    {
      "cell_type": "code",
      "source": [
        "for i in a2:\n",
        "  print(i)"
      ],
      "metadata": {
        "colab": {
          "base_uri": "https://localhost:8080/"
        },
        "id": "B2Hk-zAONHTY",
        "outputId": "c3d8cf57-d1a1-40ec-e20a-6bee7fa8263d"
      },
      "execution_count": null,
      "outputs": [
        {
          "output_type": "stream",
          "name": "stdout",
          "text": [
            "[0 1 2 3]\n",
            "[4 5 6 7]\n",
            "[ 8  9 10 11]\n"
          ]
        }
      ]
    },
    {
      "cell_type": "code",
      "source": [
        "a3"
      ],
      "metadata": {
        "colab": {
          "base_uri": "https://localhost:8080/"
        },
        "id": "8hfuC98qM-hC",
        "outputId": "72c78b5f-03c5-482c-9858-5e4c55c68659"
      },
      "execution_count": null,
      "outputs": [
        {
          "output_type": "execute_result",
          "data": {
            "text/plain": [
              "array([[[ 0,  1,  2],\n",
              "        [ 3,  4,  5],\n",
              "        [ 6,  7,  8]],\n",
              "\n",
              "       [[ 9, 10, 11],\n",
              "        [12, 13, 14],\n",
              "        [15, 16, 17]],\n",
              "\n",
              "       [[18, 19, 20],\n",
              "        [21, 22, 23],\n",
              "        [24, 25, 26]]])"
            ]
          },
          "metadata": {},
          "execution_count": 55
        }
      ]
    },
    {
      "cell_type": "code",
      "source": [
        "for i in a3:\n",
        "  print(i)"
      ],
      "metadata": {
        "colab": {
          "base_uri": "https://localhost:8080/"
        },
        "id": "DsYEnw2ONOIy",
        "outputId": "02522307-eb3d-4ef1-b072-64afbf5c3523"
      },
      "execution_count": null,
      "outputs": [
        {
          "output_type": "stream",
          "name": "stdout",
          "text": [
            "[[0 1 2]\n",
            " [3 4 5]\n",
            " [6 7 8]]\n",
            "[[ 9 10 11]\n",
            " [12 13 14]\n",
            " [15 16 17]]\n",
            "[[18 19 20]\n",
            " [21 22 23]\n",
            " [24 25 26]]\n"
          ]
        }
      ]
    },
    {
      "cell_type": "code",
      "source": [
        "for i in np.nditer(a3):\n",
        "  print(i)"
      ],
      "metadata": {
        "colab": {
          "base_uri": "https://localhost:8080/"
        },
        "id": "IuRJ1QiRNZRM",
        "outputId": "02852788-1518-4bce-d6e4-0c97ba9953ee"
      },
      "execution_count": null,
      "outputs": [
        {
          "output_type": "stream",
          "name": "stdout",
          "text": [
            "0\n",
            "1\n",
            "2\n",
            "3\n",
            "4\n",
            "5\n",
            "6\n",
            "7\n",
            "8\n",
            "9\n",
            "10\n",
            "11\n",
            "12\n",
            "13\n",
            "14\n",
            "15\n",
            "16\n",
            "17\n",
            "18\n",
            "19\n",
            "20\n",
            "21\n",
            "22\n",
            "23\n",
            "24\n",
            "25\n",
            "26\n"
          ]
        }
      ]
    },
    {
      "cell_type": "markdown",
      "source": [
        "### Reshaping"
      ],
      "metadata": {
        "id": "ZSS6AF_luNc-"
      }
    },
    {
      "cell_type": "code",
      "source": [
        "# reshape"
      ],
      "metadata": {
        "id": "NeXLsnBb9ko7"
      },
      "execution_count": null,
      "outputs": []
    },
    {
      "cell_type": "code",
      "source": [
        "# Transpose\n",
        "np.transpose(a2)\n",
        "a2.T"
      ],
      "metadata": {
        "colab": {
          "base_uri": "https://localhost:8080/"
        },
        "id": "DBIaUE8duQDz",
        "outputId": "5b08b53d-cf11-41c0-bfcb-e09d2c47ac48"
      },
      "execution_count": null,
      "outputs": [
        {
          "output_type": "execute_result",
          "data": {
            "text/plain": [
              "array([[ 0,  4,  8],\n",
              "       [ 1,  5,  9],\n",
              "       [ 2,  6, 10],\n",
              "       [ 3,  7, 11]])"
            ]
          },
          "metadata": {},
          "execution_count": 59
        }
      ]
    },
    {
      "cell_type": "code",
      "source": [
        "# ravel\n",
        "a3.ravel()"
      ],
      "metadata": {
        "colab": {
          "base_uri": "https://localhost:8080/"
        },
        "id": "IULUNn5OuQMT",
        "outputId": "ff361d19-988c-414c-f0b2-07fb9c2e5d2f"
      },
      "execution_count": null,
      "outputs": [
        {
          "output_type": "execute_result",
          "data": {
            "text/plain": [
              "array([ 0,  1,  2,  3,  4,  5,  6,  7,  8,  9, 10, 11, 12, 13, 14, 15, 16,\n",
              "       17, 18, 19, 20, 21, 22, 23, 24, 25, 26])"
            ]
          },
          "metadata": {},
          "execution_count": 60
        }
      ]
    },
    {
      "cell_type": "markdown",
      "source": [
        "### Stacking"
      ],
      "metadata": {
        "id": "ouKcJQ5EuUQC"
      }
    },
    {
      "cell_type": "code",
      "source": [
        "# horizontal stacking\n",
        "a4 = np.arange(12).reshape(3,4)\n",
        "a5 = np.arange(12,24).reshape(3,4)\n",
        "a5"
      ],
      "metadata": {
        "colab": {
          "base_uri": "https://localhost:8080/"
        },
        "id": "HHSY1njTuXLi",
        "outputId": "14c68d60-95e0-4362-f05a-9e629f79eed0"
      },
      "execution_count": null,
      "outputs": [
        {
          "output_type": "execute_result",
          "data": {
            "text/plain": [
              "array([[12, 13, 14, 15],\n",
              "       [16, 17, 18, 19],\n",
              "       [20, 21, 22, 23]])"
            ]
          },
          "metadata": {},
          "execution_count": 61
        }
      ]
    },
    {
      "cell_type": "code",
      "source": [
        "np.hstack((a4,a5))"
      ],
      "metadata": {
        "colab": {
          "base_uri": "https://localhost:8080/"
        },
        "id": "ne9uXt3yPKez",
        "outputId": "e2ed75b2-8a3c-448f-ac33-d5e614d28a62"
      },
      "execution_count": null,
      "outputs": [
        {
          "output_type": "execute_result",
          "data": {
            "text/plain": [
              "array([[ 0,  1,  2,  3, 12, 13, 14, 15],\n",
              "       [ 4,  5,  6,  7, 16, 17, 18, 19],\n",
              "       [ 8,  9, 10, 11, 20, 21, 22, 23]])"
            ]
          },
          "metadata": {},
          "execution_count": 62
        }
      ]
    },
    {
      "cell_type": "code",
      "source": [
        "# Vertical stacking\n",
        "np.vstack((a4,a5))"
      ],
      "metadata": {
        "colab": {
          "base_uri": "https://localhost:8080/"
        },
        "id": "F6bFFNKuuZW5",
        "outputId": "8820ad51-3a4e-423c-a645-d258adb7cde9"
      },
      "execution_count": null,
      "outputs": [
        {
          "output_type": "execute_result",
          "data": {
            "text/plain": [
              "array([[ 0,  1,  2,  3],\n",
              "       [ 4,  5,  6,  7],\n",
              "       [ 8,  9, 10, 11],\n",
              "       [12, 13, 14, 15],\n",
              "       [16, 17, 18, 19],\n",
              "       [20, 21, 22, 23]])"
            ]
          },
          "metadata": {},
          "execution_count": 63
        }
      ]
    },
    {
      "cell_type": "markdown",
      "source": [
        "### Splitting"
      ],
      "metadata": {
        "id": "kaY006uXucF5"
      }
    },
    {
      "cell_type": "code",
      "source": [
        "# horizontal splitting\n",
        "a4"
      ],
      "metadata": {
        "colab": {
          "base_uri": "https://localhost:8080/"
        },
        "id": "kgbl6wkD9ll6",
        "outputId": "3264a495-9c4f-4055-b3e6-59428cb6d87b"
      },
      "execution_count": null,
      "outputs": [
        {
          "output_type": "execute_result",
          "data": {
            "text/plain": [
              "array([[ 0,  1,  2,  3],\n",
              "       [ 4,  5,  6,  7],\n",
              "       [ 8,  9, 10, 11]])"
            ]
          },
          "metadata": {},
          "execution_count": 64
        }
      ]
    },
    {
      "cell_type": "code",
      "source": [
        "np.hsplit(a4,2)"
      ],
      "metadata": {
        "colab": {
          "base_uri": "https://localhost:8080/"
        },
        "id": "FIfZM5BsQE5l",
        "outputId": "af22599a-4ec6-4fac-a9a3-fddd84daf650"
      },
      "execution_count": null,
      "outputs": [
        {
          "output_type": "execute_result",
          "data": {
            "text/plain": [
              "[array([[0, 1],\n",
              "        [4, 5],\n",
              "        [8, 9]]),\n",
              " array([[ 2,  3],\n",
              "        [ 6,  7],\n",
              "        [10, 11]])]"
            ]
          },
          "metadata": {},
          "execution_count": 65
        }
      ]
    },
    {
      "cell_type": "code",
      "source": [
        "# vertical splitting"
      ],
      "metadata": {
        "id": "nfhKoruOuhK-"
      },
      "execution_count": null,
      "outputs": []
    },
    {
      "cell_type": "code",
      "source": [
        "a5"
      ],
      "metadata": {
        "colab": {
          "base_uri": "https://localhost:8080/"
        },
        "id": "qJ2xEBFUuieB",
        "outputId": "db0b304c-7861-490f-8d1e-a88a5046564b"
      },
      "execution_count": null,
      "outputs": [
        {
          "output_type": "execute_result",
          "data": {
            "text/plain": [
              "array([[12, 13, 14, 15],\n",
              "       [16, 17, 18, 19],\n",
              "       [20, 21, 22, 23]])"
            ]
          },
          "metadata": {},
          "execution_count": 67
        }
      ]
    },
    {
      "cell_type": "code",
      "source": [
        "np.vsplit(a5,3)"
      ],
      "metadata": {
        "colab": {
          "base_uri": "https://localhost:8080/"
        },
        "id": "1wxcLLR_QWVu",
        "outputId": "b9a43f59-a9c0-44ca-bc78-23a0cb7abdd4"
      },
      "execution_count": null,
      "outputs": [
        {
          "output_type": "execute_result",
          "data": {
            "text/plain": [
              "[array([[12, 13, 14, 15]]),\n",
              " array([[16, 17, 18, 19]]),\n",
              " array([[20, 21, 22, 23]])]"
            ]
          },
          "metadata": {},
          "execution_count": 68
        }
      ]
    },
    {
      "cell_type": "markdown",
      "source": [
        "# Numpy Vs Python lists\n",
        "numpy is faster than list"
      ],
      "metadata": {
        "id": "U1KOFRKr9hB3"
      }
    },
    {
      "cell_type": "code",
      "source": [
        "#speed\n",
        "#list\n",
        "a=[i for i in range(10000000)]\n",
        "b=[i for i in range(10000000,20000000)]\n",
        "c=[]\n",
        "import time\n",
        "start=time.time()\n",
        "for i in range(len(a)):\n",
        "  c.append(a[i]+b[i])\n",
        "print(time.time()-start)\n",
        "\n",
        "\n"
      ],
      "metadata": {
        "colab": {
          "base_uri": "https://localhost:8080/"
        },
        "id": "Be1CVYgA9gX6",
        "outputId": "a9841e98-6f09-43bc-ecc7-efd94893adc3"
      },
      "execution_count": null,
      "outputs": [
        {
          "output_type": "stream",
          "name": "stdout",
          "text": [
            "9.531618118286133\n"
          ]
        }
      ]
    },
    {
      "cell_type": "code",
      "source": [
        "import numpy as np\n",
        "a=np.arange(10000000)\n",
        "b=np.arange(10000000,20000000)\n",
        "start=time.time()\n",
        "c=a+b\n",
        "print(time.time()-start)"
      ],
      "metadata": {
        "colab": {
          "base_uri": "https://localhost:8080/"
        },
        "id": "8W6DRuMv7vJK",
        "outputId": "e9094f59-7906-4b20-ec39-5248c33c3953"
      },
      "execution_count": null,
      "outputs": [
        {
          "output_type": "stream",
          "name": "stdout",
          "text": [
            "0.0911862850189209\n"
          ]
        }
      ]
    },
    {
      "cell_type": "code",
      "source": [
        "#memory\n",
        "a=[i for i in range(10000000)]\n",
        "import sys\n",
        "sys.getsizeof(a)"
      ],
      "metadata": {
        "colab": {
          "base_uri": "https://localhost:8080/"
        },
        "id": "Wdw-d72b8btw",
        "outputId": "6ea59640-a605-4ea9-ea12-9979e02f294a"
      },
      "execution_count": null,
      "outputs": [
        {
          "output_type": "execute_result",
          "data": {
            "text/plain": [
              "89095160"
            ]
          },
          "metadata": {},
          "execution_count": 71
        }
      ]
    },
    {
      "cell_type": "code",
      "source": [
        "a=np.arange(10000000,dtype=np.int16)\n",
        "sys.getsizeof(a)"
      ],
      "metadata": {
        "colab": {
          "base_uri": "https://localhost:8080/"
        },
        "id": "psAzQ9XW8rN8",
        "outputId": "3030e2f3-5595-4146-f995-7fa37a71e3d1"
      },
      "execution_count": null,
      "outputs": [
        {
          "output_type": "execute_result",
          "data": {
            "text/plain": [
              "20000112"
            ]
          },
          "metadata": {},
          "execution_count": 72
        }
      ]
    },
    {
      "cell_type": "code",
      "source": [
        "#convinence->better than python"
      ],
      "metadata": {
        "id": "0TrCujaZ9Gh0"
      },
      "execution_count": null,
      "outputs": []
    },
    {
      "cell_type": "markdown",
      "source": [],
      "metadata": {
        "id": "S18sZjFPa4PO"
      }
    },
    {
      "cell_type": "markdown",
      "source": [
        "#Advanced indexing\n",
        "* fancy indexing\n",
        "* boolean indexing"
      ],
      "metadata": {
        "id": "5JtPdbha91SK"
      }
    },
    {
      "cell_type": "code",
      "source": [
        "#normal indexing and slicing\n",
        "a=np.arange(24).reshape(6,4)\n",
        "a"
      ],
      "metadata": {
        "colab": {
          "base_uri": "https://localhost:8080/"
        },
        "id": "Hd0myXhg90tA",
        "outputId": "fe55970c-6b19-47f3-f2ab-826c630ff7d5"
      },
      "execution_count": null,
      "outputs": [
        {
          "output_type": "execute_result",
          "data": {
            "text/plain": [
              "array([[ 0,  1,  2,  3],\n",
              "       [ 4,  5,  6,  7],\n",
              "       [ 8,  9, 10, 11],\n",
              "       [12, 13, 14, 15],\n",
              "       [16, 17, 18, 19],\n",
              "       [20, 21, 22, 23]])"
            ]
          },
          "metadata": {},
          "execution_count": 74
        }
      ]
    },
    {
      "cell_type": "code",
      "source": [
        "a[1,2]"
      ],
      "metadata": {
        "colab": {
          "base_uri": "https://localhost:8080/"
        },
        "id": "TMbT0w8o-JVP",
        "outputId": "b2670f4f-71df-4b21-bdf2-09e4f17927dd"
      },
      "execution_count": null,
      "outputs": [
        {
          "output_type": "execute_result",
          "data": {
            "text/plain": [
              "6"
            ]
          },
          "metadata": {},
          "execution_count": 75
        }
      ]
    },
    {
      "cell_type": "code",
      "source": [
        "#Fancy indexing\n",
        "a[[0,2,3]]\n",
        "a"
      ],
      "metadata": {
        "colab": {
          "base_uri": "https://localhost:8080/"
        },
        "id": "-g6pkLaV-QNf",
        "outputId": "49f70002-4786-4698-9bae-04b6ce32689f"
      },
      "execution_count": null,
      "outputs": [
        {
          "output_type": "execute_result",
          "data": {
            "text/plain": [
              "array([[ 0,  1,  2,  3],\n",
              "       [ 4,  5,  6,  7],\n",
              "       [ 8,  9, 10, 11],\n",
              "       [12, 13, 14, 15],\n",
              "       [16, 17, 18, 19],\n",
              "       [20, 21, 22, 23]])"
            ]
          },
          "metadata": {},
          "execution_count": 76
        }
      ]
    },
    {
      "cell_type": "code",
      "source": [
        "#rows\n",
        "a[[0,2,3,5]]"
      ],
      "metadata": {
        "colab": {
          "base_uri": "https://localhost:8080/"
        },
        "id": "fpJpW2i--6Ax",
        "outputId": "aed477a2-705a-4e91-bbe0-bf10d07f6472"
      },
      "execution_count": null,
      "outputs": [
        {
          "output_type": "execute_result",
          "data": {
            "text/plain": [
              "array([[ 0,  1,  2,  3],\n",
              "       [ 8,  9, 10, 11],\n",
              "       [12, 13, 14, 15],\n",
              "       [20, 21, 22, 23]])"
            ]
          },
          "metadata": {},
          "execution_count": 77
        }
      ]
    },
    {
      "cell_type": "code",
      "source": [
        "a[:,[0,2,3]]"
      ],
      "metadata": {
        "colab": {
          "base_uri": "https://localhost:8080/"
        },
        "id": "sr4VYGBd_RpD",
        "outputId": "f3a90594-bd7e-4d99-a9d6-28e466ee0a3e"
      },
      "execution_count": null,
      "outputs": [
        {
          "output_type": "execute_result",
          "data": {
            "text/plain": [
              "array([[ 0,  2,  3],\n",
              "       [ 4,  6,  7],\n",
              "       [ 8, 10, 11],\n",
              "       [12, 14, 15],\n",
              "       [16, 18, 19],\n",
              "       [20, 22, 23]])"
            ]
          },
          "metadata": {},
          "execution_count": 78
        }
      ]
    },
    {
      "cell_type": "code",
      "source": [
        "#Boolean indexing-> getting the elements based on some condition\n",
        "import numpy as np\n",
        "a=np.random.randint(1,100,24).reshape(6,4)\n",
        "a"
      ],
      "metadata": {
        "colab": {
          "base_uri": "https://localhost:8080/"
        },
        "id": "1dSSVgI4_0tk",
        "outputId": "ecf94adc-8916-45a9-89cc-5cedd2aac7fe"
      },
      "execution_count": null,
      "outputs": [
        {
          "output_type": "execute_result",
          "data": {
            "text/plain": [
              "array([[55, 93, 66, 37],\n",
              "       [29, 94, 99, 69],\n",
              "       [ 6, 66, 13, 34],\n",
              "       [97,  9, 92, 23],\n",
              "       [61, 72, 30, 19],\n",
              "       [72, 88, 43, 95]])"
            ]
          },
          "metadata": {},
          "execution_count": 79
        }
      ]
    },
    {
      "cell_type": "code",
      "source": [
        "#find all numbers greater than 50\n",
        "a[a>50]"
      ],
      "metadata": {
        "colab": {
          "base_uri": "https://localhost:8080/"
        },
        "id": "orjcZyrWAaGt",
        "outputId": "525e4438-6928-437d-c45b-0fa785fb993c"
      },
      "execution_count": null,
      "outputs": [
        {
          "output_type": "execute_result",
          "data": {
            "text/plain": [
              "array([55, 93, 66, 94, 99, 69, 66, 97, 92, 61, 72, 72, 88, 95])"
            ]
          },
          "metadata": {},
          "execution_count": 80
        }
      ]
    },
    {
      "cell_type": "code",
      "source": [
        "#find out even numbers\n",
        "a[a % 2 == 0]"
      ],
      "metadata": {
        "colab": {
          "base_uri": "https://localhost:8080/"
        },
        "id": "tDLXN5lWDy2T",
        "outputId": "3857bebd-314b-4165-a2b6-b880002bb139"
      },
      "execution_count": null,
      "outputs": [
        {
          "output_type": "execute_result",
          "data": {
            "text/plain": [
              "array([66, 94,  6, 66, 34, 92, 72, 30, 72, 88])"
            ]
          },
          "metadata": {},
          "execution_count": 81
        }
      ]
    },
    {
      "cell_type": "code",
      "source": [
        "#find all numbers greater than 50 and find out even\n",
        "a[(a>50) & (a%2==0)]"
      ],
      "metadata": {
        "colab": {
          "base_uri": "https://localhost:8080/"
        },
        "id": "xy6X51V0EIJO",
        "outputId": "dac97cd1-14b9-4e3f-c12c-ac7b4cb75102"
      },
      "execution_count": null,
      "outputs": [
        {
          "output_type": "execute_result",
          "data": {
            "text/plain": [
              "array([66, 94, 66, 92, 72, 72, 88])"
            ]
          },
          "metadata": {},
          "execution_count": 82
        }
      ]
    },
    {
      "cell_type": "code",
      "source": [
        "#Find all numbers not divisible by 7\n",
        "a[a%7!=0]"
      ],
      "metadata": {
        "colab": {
          "base_uri": "https://localhost:8080/"
        },
        "id": "wN4--lw6EheB",
        "outputId": "6dc9a623-11f6-49e0-bc4e-99e233675a13"
      },
      "execution_count": null,
      "outputs": [
        {
          "output_type": "execute_result",
          "data": {
            "text/plain": [
              "array([55, 93, 66, 37, 29, 94, 99, 69,  6, 66, 13, 34, 97,  9, 92, 23, 61,\n",
              "       72, 30, 19, 72, 88, 43, 95])"
            ]
          },
          "metadata": {},
          "execution_count": 83
        }
      ]
    },
    {
      "cell_type": "markdown",
      "source": [
        "# Broadcasting\n",
        "the term broadcasting describes how numpy treats arrays with different shapes during arithmetic operations.The smaller array is 'broadcast' across the larger array so that they have compatible shapes"
      ],
      "metadata": {
        "id": "8mE-B2OBFAHs"
      }
    },
    {
      "cell_type": "code",
      "source": [
        "import numpy as np"
      ],
      "metadata": {
        "id": "GFpqf7biFFBZ"
      },
      "execution_count": null,
      "outputs": []
    },
    {
      "cell_type": "code",
      "source": [
        "a=np.arange(6).reshape(2,3)\n",
        "b=np.arange(3).reshape(1,3)"
      ],
      "metadata": {
        "id": "EF7kKsZMe1Kt"
      },
      "execution_count": null,
      "outputs": []
    },
    {
      "cell_type": "code",
      "source": [
        "print(a+b)"
      ],
      "metadata": {
        "colab": {
          "base_uri": "https://localhost:8080/"
        },
        "id": "YKZ5hR8SfFr3",
        "outputId": "a4d0eff7-7cb1-4e6c-8474-4042410ea8fc"
      },
      "execution_count": null,
      "outputs": [
        {
          "output_type": "stream",
          "name": "stdout",
          "text": [
            "[[0 2 4]\n",
            " [3 5 7]]\n"
          ]
        }
      ]
    },
    {
      "cell_type": "markdown",
      "source": [
        "# Broadcasting rules"
      ],
      "metadata": {
        "id": "Bf1RuTXRfbNQ"
      }
    },
    {
      "cell_type": "markdown",
      "source": [
        "1. Make the two arrays have the same number of dimensions.\n",
        "\n",
        "* If the numbers of dimensions of the two arrays are different, add new dimensions with size 1 to the head of the array with the smaller dimension.\n",
        "2. Make each dimension of the two arrays the same size.\n",
        "\n",
        "* If the sizes of each dimension of the two arrays do not match, dimensions with size 1 are stretched to the size of the other array.\n",
        "* If there is a dimension whose size is not 1 in either of the two arrays, it cannot be broadcasted, and an error is raised."
      ],
      "metadata": {
        "id": "6WCNc8hHfhtO"
      }
    },
    {
      "cell_type": "markdown",
      "source": [
        "<img src = \"https://jakevdp.github.io/PythonDataScienceHandbook/figures/02.05-broadcasting.png\">"
      ],
      "metadata": {
        "id": "z-LJDcdYf1cL"
      }
    },
    {
      "cell_type": "code",
      "source": [
        "a = np.arange(12).reshape(4,3)\n",
        "b = np.arange(3)\n",
        "print(a)\n",
        "print(b)\n",
        "print(a+b)"
      ],
      "metadata": {
        "colab": {
          "base_uri": "https://localhost:8080/"
        },
        "id": "bRn2fyB4fgDb",
        "outputId": "78b882c7-024f-4df2-a96f-ef3f85c61c0c"
      },
      "execution_count": null,
      "outputs": [
        {
          "output_type": "stream",
          "name": "stdout",
          "text": [
            "[[ 0  1  2]\n",
            " [ 3  4  5]\n",
            " [ 6  7  8]\n",
            " [ 9 10 11]]\n",
            "[0 1 2]\n",
            "[[ 0  2  4]\n",
            " [ 3  5  7]\n",
            " [ 6  8 10]\n",
            " [ 9 11 13]]\n"
          ]
        }
      ]
    },
    {
      "cell_type": "markdown",
      "source": [
        "this is possible"
      ],
      "metadata": {
        "id": "Z1FviVYYiXjF"
      }
    },
    {
      "cell_type": "markdown",
      "source": [
        "![Screenshot_20240723_083104.png](data:image/png;base64,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)"
      ],
      "metadata": {
        "id": "-UkGYF3LiSpM"
      }
    },
    {
      "cell_type": "code",
      "source": [
        "a = np.arange(3).reshape(1,3)\n",
        "b = np.arange(3).reshape(3,1)\n",
        "print(a+b)"
      ],
      "metadata": {
        "colab": {
          "base_uri": "https://localhost:8080/"
        },
        "id": "-amaRR5bh15F",
        "outputId": "c59454be-2d69-4580-f313-2c026a034fed"
      },
      "execution_count": null,
      "outputs": [
        {
          "output_type": "stream",
          "name": "stdout",
          "text": [
            "[[0 1 2]\n",
            " [1 2 3]\n",
            " [2 3 4]]\n"
          ]
        }
      ]
    },
    {
      "cell_type": "code",
      "source": [
        "a = np.arange(3).reshape(1,3)\n",
        "b = np.arange(4).reshape(4,1)\n",
        "print(a+b)"
      ],
      "metadata": {
        "colab": {
          "base_uri": "https://localhost:8080/"
        },
        "id": "Sd9Behw1i7E1",
        "outputId": "736513bb-7141-4898-9ebc-8d5d38ad8127"
      },
      "execution_count": null,
      "outputs": [
        {
          "output_type": "stream",
          "name": "stdout",
          "text": [
            "[[0 1 2]\n",
            " [1 2 3]\n",
            " [2 3 4]\n",
            " [3 4 5]]\n"
          ]
        }
      ]
    },
    {
      "cell_type": "code",
      "source": [
        "a = np.arange(12).reshape(3,4)\n",
        "b = np.arange(12).reshape(4,3)\n",
        "\n",
        "print(a)\n",
        "print(b)\n",
        "\n",
        "print(a+b)"
      ],
      "metadata": {
        "colab": {
          "base_uri": "https://localhost:8080/",
          "height": 297
        },
        "id": "yjcDgOg-joDS",
        "outputId": "bc23ab55-b87f-413f-b256-9d3880e63046"
      },
      "execution_count": null,
      "outputs": [
        {
          "output_type": "stream",
          "name": "stdout",
          "text": [
            "[[ 0  1  2  3]\n",
            " [ 4  5  6  7]\n",
            " [ 8  9 10 11]]\n",
            "[[ 0  1  2]\n",
            " [ 3  4  5]\n",
            " [ 6  7  8]\n",
            " [ 9 10 11]]\n"
          ]
        },
        {
          "output_type": "error",
          "ename": "ValueError",
          "evalue": "operands could not be broadcast together with shapes (3,4) (4,3) ",
          "traceback": [
            "\u001b[0;31m---------------------------------------------------------------------------\u001b[0m",
            "\u001b[0;31mValueError\u001b[0m                                Traceback (most recent call last)",
            "\u001b[0;32m<ipython-input-91-c590a65467e5>\u001b[0m in \u001b[0;36m<cell line: 7>\u001b[0;34m()\u001b[0m\n\u001b[1;32m      5\u001b[0m \u001b[0mprint\u001b[0m\u001b[0;34m(\u001b[0m\u001b[0mb\u001b[0m\u001b[0;34m)\u001b[0m\u001b[0;34m\u001b[0m\u001b[0;34m\u001b[0m\u001b[0m\n\u001b[1;32m      6\u001b[0m \u001b[0;34m\u001b[0m\u001b[0m\n\u001b[0;32m----> 7\u001b[0;31m \u001b[0mprint\u001b[0m\u001b[0;34m(\u001b[0m\u001b[0ma\u001b[0m\u001b[0;34m+\u001b[0m\u001b[0mb\u001b[0m\u001b[0;34m)\u001b[0m\u001b[0;34m\u001b[0m\u001b[0;34m\u001b[0m\u001b[0m\n\u001b[0m",
            "\u001b[0;31mValueError\u001b[0m: operands could not be broadcast together with shapes (3,4) (4,3) "
          ]
        }
      ]
    },
    {
      "cell_type": "code",
      "source": [
        "a = np.arange(16).reshape(4,4)\n",
        "b = np.arange(4).reshape(2,2)\n",
        "\n",
        "print(a)\n",
        "print(b)\n",
        "\n",
        "print(a+b)"
      ],
      "metadata": {
        "id": "JseJVU2Vj_5j"
      },
      "execution_count": null,
      "outputs": []
    },
    {
      "cell_type": "markdown",
      "source": [
        "# Working with Mathematical formulas"
      ],
      "metadata": {
        "id": "CTblGBOIkbRZ"
      }
    },
    {
      "cell_type": "markdown",
      "source": [
        "we cna make any mathematical formulas using numpy"
      ],
      "metadata": {
        "id": "RMIF28KZrRHf"
      }
    },
    {
      "cell_type": "code",
      "source": [
        "a = np.arange(10)\n",
        "np.sum(a)\n",
        "np.sin(a)"
      ],
      "metadata": {
        "id": "mrxmJlMyklGv"
      },
      "execution_count": null,
      "outputs": []
    },
    {
      "cell_type": "code",
      "source": [
        "#sigmoid\n",
        "def sigmoid(array):\n",
        "  return 1/(1+np.exp(-(array)))\n",
        "a = np.arange(10)\n",
        "sigmoid(a)\n"
      ],
      "metadata": {
        "id": "FRWWjPYXkiFe"
      },
      "execution_count": null,
      "outputs": []
    },
    {
      "cell_type": "code",
      "source": [
        "#mean squared error\n",
        "actual = np.random.randint(1,50,25)\n",
        "predicted = np.random.randint(1,50,25)"
      ],
      "metadata": {
        "id": "gFveHrBnr1S0"
      },
      "execution_count": null,
      "outputs": []
    },
    {
      "cell_type": "code",
      "source": [
        "def mse(actual,predicted):\n",
        "  return np.mean(actual - predicted)**2\n",
        "mse(actual,predicted)\n"
      ],
      "metadata": {
        "id": "5Y51oWLhs_Cb"
      },
      "execution_count": null,
      "outputs": []
    },
    {
      "cell_type": "markdown",
      "source": [
        "# How to deal with missing values"
      ],
      "metadata": {
        "id": "V1_0uUF4t_Je"
      }
    },
    {
      "cell_type": "code",
      "source": [
        "a = np.array([1,2,3,4,np.nan,6])\n",
        "np.isnan(a) #check missing values"
      ],
      "metadata": {
        "id": "dEyGK1jitsFO"
      },
      "execution_count": null,
      "outputs": []
    },
    {
      "cell_type": "code",
      "source": [
        "a[~np.isnan(a)]"
      ],
      "metadata": {
        "id": "8QWregAEvDjm"
      },
      "execution_count": null,
      "outputs": []
    },
    {
      "cell_type": "markdown",
      "source": [
        "# Plotting graphs"
      ],
      "metadata": {
        "id": "hCGAA57uvSi5"
      }
    },
    {
      "cell_type": "code",
      "source": [
        "#plotting a 2D plot\n",
        "x = np.linspace(-10,10,100)\n",
        "y = x\n",
        "y"
      ],
      "metadata": {
        "id": "BYvm78PXvWxC"
      },
      "execution_count": null,
      "outputs": []
    },
    {
      "cell_type": "code",
      "source": [
        "import matplotlib.pyplot as plt\n",
        "plt.plot(x,y)"
      ],
      "metadata": {
        "id": "KpSjWqhAv_L7"
      },
      "execution_count": null,
      "outputs": []
    },
    {
      "cell_type": "code",
      "source": [
        "#y=x^2 graph of parabola\n",
        "\n",
        "x=np.linspace(-10,10,100)\n",
        "y= x**2\n",
        "plt.plot(x,y)"
      ],
      "metadata": {
        "id": "Cm79_HJlwO19"
      },
      "execution_count": null,
      "outputs": []
    },
    {
      "cell_type": "code",
      "source": [
        "#sin(x)\n",
        "x = np.linspace(-10,10,100)\n",
        "y=np.sin(x)\n",
        "plt.plot(x,y)"
      ],
      "metadata": {
        "id": "I4TApUxFwkUq"
      },
      "execution_count": null,
      "outputs": []
    },
    {
      "cell_type": "code",
      "source": [
        "#y= x.log(x)\n",
        "x = np.linspace(-10,10,100)\n",
        "y= x*np.log(x)\n",
        "plt.plot(x,y)"
      ],
      "metadata": {
        "id": "yTgQPPItw1yU"
      },
      "execution_count": null,
      "outputs": []
    },
    {
      "cell_type": "code",
      "source": [
        "#sigmoid\n",
        "x=np.linspace(-10,10,100)\n",
        "y= 1/(1+np.exp(-x))\n",
        "plt.plot(x,y)"
      ],
      "metadata": {
        "id": "33rSuUqwxQKV"
      },
      "execution_count": null,
      "outputs": []
    },
    {
      "cell_type": "markdown",
      "source": [
        "#**np.sort()**\n",
        "np.sort() sort the numpy array"
      ],
      "metadata": {
        "id": "BBZJQ-qx9BkG"
      }
    },
    {
      "cell_type": "code",
      "source": [
        "import numpy as np\n",
        "a = np.random.randint(1,100,15)\n",
        "a"
      ],
      "metadata": {
        "colab": {
          "base_uri": "https://localhost:8080/"
        },
        "id": "LdhZB5u89EDW",
        "outputId": "696df9af-7e99-4a98-bcc8-aec5732d1979"
      },
      "execution_count": null,
      "outputs": [
        {
          "output_type": "execute_result",
          "data": {
            "text/plain": [
              "array([85, 10, 68,  3, 26, 98,  2, 27, 40, 32, 60, 18, 96, 23, 20])"
            ]
          },
          "metadata": {},
          "execution_count": 95
        }
      ]
    },
    {
      "cell_type": "code",
      "source": [
        "b = np.random.randint(1,100,24).reshape(6,4)\n",
        "b"
      ],
      "metadata": {
        "colab": {
          "base_uri": "https://localhost:8080/"
        },
        "id": "5_XSpuBI9Umg",
        "outputId": "f6bf9e50-6d50-4eac-f411-685f0c6f5964"
      },
      "execution_count": null,
      "outputs": [
        {
          "output_type": "execute_result",
          "data": {
            "text/plain": [
              "array([[76, 34, 73, 76],\n",
              "       [61, 41, 10, 92],\n",
              "       [84, 71, 29, 57],\n",
              "       [44, 85, 22, 80],\n",
              "       [99, 55, 76, 15],\n",
              "       [41, 44, 60, 75]])"
            ]
          },
          "metadata": {},
          "execution_count": 96
        }
      ]
    },
    {
      "cell_type": "code",
      "source": [
        "#sort\n",
        "np.sort(a)\n",
        "np.sort(b)\n",
        "np.sort(b,axis=0) #row wise sorting"
      ],
      "metadata": {
        "id": "zM1OsYr_9gxT"
      },
      "execution_count": null,
      "outputs": []
    },
    {
      "cell_type": "code",
      "source": [
        "np.sort(b[::,2])"
      ],
      "metadata": {
        "id": "-R_RI51W-P7F"
      },
      "execution_count": null,
      "outputs": []
    },
    {
      "cell_type": "markdown",
      "source": [
        "#np.append()\n",
        "The numpy.append() appends values along the mentioned axis at the end of the array"
      ],
      "metadata": {
        "id": "q5bcCaGC-r_J"
      }
    },
    {
      "cell_type": "code",
      "source": [
        "np.append(a,12)"
      ],
      "metadata": {
        "id": "TqZe0Eqs-39r"
      },
      "execution_count": null,
      "outputs": []
    },
    {
      "cell_type": "code",
      "source": [
        "np.append(b,np.ones((b.shape[0],1)),axis=1)"
      ],
      "metadata": {
        "id": "tU7IqYQs_N5a"
      },
      "execution_count": null,
      "outputs": []
    },
    {
      "cell_type": "markdown",
      "source": [
        "#np.concatenate()\n",
        "numpy.concatenate() function concatenate a sequence of arrays along an existing axis"
      ],
      "metadata": {
        "id": "1C2gt6PN_xvB"
      }
    },
    {
      "cell_type": "code",
      "source": [
        "#code\n",
        "c = np.arange(6).reshape(2,3)\n",
        "d = np.arange(6,12).reshape(2,3)\n",
        "print(c)\n",
        "print(d)"
      ],
      "metadata": {
        "id": "Tcp4Htmf_w0F"
      },
      "execution_count": null,
      "outputs": []
    },
    {
      "cell_type": "code",
      "source": [
        "np.concatenate((c,d),axis=0)"
      ],
      "metadata": {
        "id": "1ibLwDIpEkFn"
      },
      "execution_count": null,
      "outputs": []
    },
    {
      "cell_type": "code",
      "source": [
        "np.concatenate((c,d),axis=1)"
      ],
      "metadata": {
        "id": "f_EY8wnMEv-f"
      },
      "execution_count": null,
      "outputs": []
    },
    {
      "cell_type": "markdown",
      "source": [
        "#np.unique\n",
        "with the help of np.unique() method , we can get the unique values from an array given as parameter in np.unique() method"
      ],
      "metadata": {
        "id": "15taQfd-E22C"
      }
    },
    {
      "cell_type": "code",
      "source": [
        "e = np.array([1,1,2,2,3,3,3,4,4,4])"
      ],
      "metadata": {
        "id": "lHKVNIMeE8Li"
      },
      "execution_count": null,
      "outputs": []
    },
    {
      "cell_type": "code",
      "source": [
        "np.unique(e)"
      ],
      "metadata": {
        "id": "RFq0GtYOGGBk"
      },
      "execution_count": null,
      "outputs": []
    },
    {
      "cell_type": "markdown",
      "source": [
        "# np.expand_dims()\n",
        "with the help of numpy.expand_dims() methods ,we can get the expanded dimensions of an array"
      ],
      "metadata": {
        "id": "hTU_qwguGNxZ"
      }
    },
    {
      "cell_type": "code",
      "source": [
        "np.expand_dims(a,axis=0).shape"
      ],
      "metadata": {
        "colab": {
          "base_uri": "https://localhost:8080/"
        },
        "id": "zeuK-LKoGKt3",
        "outputId": "c56cb091-8428-4a5b-fbe4-d5b45779b396"
      },
      "execution_count": null,
      "outputs": [
        {
          "output_type": "execute_result",
          "data": {
            "text/plain": [
              "(1, 15)"
            ]
          },
          "metadata": {},
          "execution_count": 97
        }
      ]
    },
    {
      "cell_type": "code",
      "source": [
        "np.expand_dims(a,axis=0).shape"
      ],
      "metadata": {
        "colab": {
          "base_uri": "https://localhost:8080/"
        },
        "id": "i8N1h4DBGlPJ",
        "outputId": "59950d51-29b1-4d4a-f02f-28d5f0df1dd8"
      },
      "execution_count": null,
      "outputs": [
        {
          "output_type": "execute_result",
          "data": {
            "text/plain": [
              "(1, 15)"
            ]
          },
          "metadata": {},
          "execution_count": 105
        }
      ]
    },
    {
      "cell_type": "markdown",
      "source": [
        "#np.where()\n",
        "This numpy.where() functions returns the indices of elements in an input array where the given condition is satisfied"
      ],
      "metadata": {
        "id": "gK3MD5jfKBBd"
      }
    },
    {
      "cell_type": "code",
      "source": [
        "#find all indices with value greater than 50\n",
        "np.where(a>50)"
      ],
      "metadata": {
        "colab": {
          "base_uri": "https://localhost:8080/"
        },
        "id": "plMaVRP_KDJf",
        "outputId": "2dac5ae9-1bd5-4872-e2f8-d92ac92ca6c1"
      },
      "execution_count": null,
      "outputs": [
        {
          "output_type": "execute_result",
          "data": {
            "text/plain": [
              "(array([ 0,  2,  5, 10, 12]),)"
            ]
          },
          "metadata": {},
          "execution_count": 106
        }
      ]
    },
    {
      "cell_type": "code",
      "source": [
        "#replace all values > 50 with 0\n",
        "#np.where(array,True,false)\n",
        "np.where(a>50,0,a)"
      ],
      "metadata": {
        "colab": {
          "base_uri": "https://localhost:8080/"
        },
        "id": "qfPXy7aaKdbw",
        "outputId": "8a743f3e-48eb-4392-a114-465e5790e03c"
      },
      "execution_count": null,
      "outputs": [
        {
          "output_type": "execute_result",
          "data": {
            "text/plain": [
              "array([ 0, 10,  0,  3, 26,  0,  2, 27, 40, 32,  0, 18,  0, 23, 20])"
            ]
          },
          "metadata": {},
          "execution_count": 107
        }
      ]
    },
    {
      "cell_type": "code",
      "source": [
        "#replace all even values with 0\n",
        "np.where(a%2==0,0,a)"
      ],
      "metadata": {
        "colab": {
          "base_uri": "https://localhost:8080/"
        },
        "id": "0g4YNPgKK1nP",
        "outputId": "98f93aae-5d88-4177-f024-82ad7d369ffb"
      },
      "execution_count": null,
      "outputs": [
        {
          "output_type": "execute_result",
          "data": {
            "text/plain": [
              "array([85,  0,  0,  3,  0,  0,  0, 27,  0,  0,  0,  0,  0, 23,  0])"
            ]
          },
          "metadata": {},
          "execution_count": 108
        }
      ]
    },
    {
      "cell_type": "markdown",
      "source": [
        "# np.argmax()\n",
        "The numpy.argmax() function returns indices of the max element of the array in a particulkar axis"
      ],
      "metadata": {
        "id": "gqvxwZQXLCDq"
      }
    },
    {
      "cell_type": "code",
      "source": [
        "np.argmax(a)"
      ],
      "metadata": {
        "id": "WUV5wHJYLFud"
      },
      "execution_count": null,
      "outputs": []
    },
    {
      "cell_type": "code",
      "source": [
        "np.argmax(b,axis=0)"
      ],
      "metadata": {
        "id": "LNcVCa6mLc2B"
      },
      "execution_count": null,
      "outputs": []
    },
    {
      "cell_type": "code",
      "source": [
        "np.argmax(b,axis=1)"
      ],
      "metadata": {
        "id": "2tmyiTVuLrqt"
      },
      "execution_count": null,
      "outputs": []
    },
    {
      "cell_type": "markdown",
      "source": [
        "# np.argmin()\n",
        "The numpy.argmin() function returns indices of the minimum element of the array in a particulkar axis"
      ],
      "metadata": {
        "id": "XpjFQbXkLyXY"
      }
    },
    {
      "cell_type": "code",
      "source": [
        "np.argmin(a)"
      ],
      "metadata": {
        "id": "demC-N4SL6W1"
      },
      "execution_count": null,
      "outputs": []
    },
    {
      "cell_type": "markdown",
      "source": [
        "#np.cumsum()\n",
        "numpy.cumsum() function is used when we want to compute the cumulative sum of array elements over a given axis.\n"
      ],
      "metadata": {
        "id": "wCfW08FdMKX7"
      }
    },
    {
      "cell_type": "code",
      "source": [
        "np.cumsum(a)"
      ],
      "metadata": {
        "id": "LHjaJ3HIMJqs"
      },
      "execution_count": null,
      "outputs": []
    },
    {
      "cell_type": "code",
      "source": [
        "np.cumsum(b,axis=0)"
      ],
      "metadata": {
        "id": "09Tmtq0CND-C"
      },
      "execution_count": null,
      "outputs": []
    },
    {
      "cell_type": "code",
      "source": [
        "np.cumsum(b,axis=1)"
      ],
      "metadata": {
        "id": "tLCBJhG_NKcy"
      },
      "execution_count": null,
      "outputs": []
    },
    {
      "cell_type": "code",
      "source": [
        "#np.cumprod()\n",
        "np.cumprod(a)"
      ],
      "metadata": {
        "id": "Kx7m-bFHNS-t"
      },
      "execution_count": null,
      "outputs": []
    },
    {
      "cell_type": "markdown",
      "source": [
        "# np.percentile\n",
        "numpy.percentile()function used to compute the nth percentile of the given data (array elements) along the specified axis."
      ],
      "metadata": {
        "id": "k3IobvaeNdh8"
      }
    },
    {
      "cell_type": "code",
      "source": [
        "np.percentile(a,100)"
      ],
      "metadata": {
        "id": "OcpSg7bpNghZ"
      },
      "execution_count": null,
      "outputs": []
    },
    {
      "cell_type": "code",
      "source": [
        "np.percentile(a,0)"
      ],
      "metadata": {
        "id": "CaRkAgxTORJB"
      },
      "execution_count": null,
      "outputs": []
    },
    {
      "cell_type": "code",
      "source": [
        "np.percentile(a,50)"
      ],
      "metadata": {
        "id": "GlsN6-x4OXeS"
      },
      "execution_count": null,
      "outputs": []
    },
    {
      "cell_type": "markdown",
      "source": [
        "# np.histogram()"
      ],
      "metadata": {
        "id": "OOmYcvRkOyeL"
      }
    },
    {
      "cell_type": "code",
      "source": [
        "#code\n",
        "a"
      ],
      "metadata": {
        "id": "0zxNnYN3O1Uh"
      },
      "execution_count": null,
      "outputs": []
    },
    {
      "cell_type": "code",
      "source": [
        "np.histogram(a,bins=[1,10,20,30,40,50,60,70,80,90,100])"
      ],
      "metadata": {
        "colab": {
          "base_uri": "https://localhost:8080/"
        },
        "id": "Wi4uMfqYPPaw",
        "outputId": "8dc3ab40-85a4-4c63-c05d-069777f62e1e"
      },
      "execution_count": null,
      "outputs": [
        {
          "output_type": "execute_result",
          "data": {
            "text/plain": [
              "(array([2, 2, 4, 1, 1, 0, 2, 0, 1, 2]),\n",
              " array([  1,  10,  20,  30,  40,  50,  60,  70,  80,  90, 100]))"
            ]
          },
          "metadata": {},
          "execution_count": 109
        }
      ]
    },
    {
      "cell_type": "markdown",
      "source": [
        "# np.corrcoef\n",
        "Return Pearson product-moment correlation coefficients."
      ],
      "metadata": {
        "id": "Rto7wouBPrZo"
      }
    },
    {
      "cell_type": "code",
      "source": [
        "salary = np.array([20000,40000,25000,35000,60000])\n",
        "experience = np.array([1,3,2,4,2])\n",
        "\n",
        "np.corrcoef(salary,experience)"
      ],
      "metadata": {
        "id": "4MdIDN-EPq9c"
      },
      "execution_count": null,
      "outputs": []
    },
    {
      "cell_type": "markdown",
      "source": [
        "#np.isin()\n",
        "With the help of numpy.isin() method, we can see that one array having values are checked in a different numpy array having different elements with different sizes."
      ],
      "metadata": {
        "id": "fCSmolBPQvLg"
      }
    },
    {
      "cell_type": "code",
      "source": [
        "items=[10,20,30,40,50,60,70,80,90,100]\n",
        "a[np.isin(a,items)]\n"
      ],
      "metadata": {
        "colab": {
          "base_uri": "https://localhost:8080/"
        },
        "id": "1141KQNNQvB7",
        "outputId": "0a75395e-cc39-4c04-ce15-88e2542a169c"
      },
      "execution_count": null,
      "outputs": [
        {
          "output_type": "execute_result",
          "data": {
            "text/plain": [
              "array([False,  True, False, False, False, False, False, False,  True,\n",
              "       False,  True, False, False, False,  True])"
            ]
          },
          "metadata": {},
          "execution_count": 111
        }
      ]
    },
    {
      "cell_type": "markdown",
      "source": [
        "#np.flip()\n",
        "The numpy.flip() function reverses the order of array elements along the specified axis, preserving the shape of the array."
      ],
      "metadata": {
        "id": "-bXWZMvcRPbs"
      }
    },
    {
      "cell_type": "code",
      "source": [
        "a"
      ],
      "metadata": {
        "colab": {
          "base_uri": "https://localhost:8080/"
        },
        "id": "K7NhR3ePuowK",
        "outputId": "722e3eb5-2f11-4c39-a5e0-d7ce888f4837"
      },
      "execution_count": null,
      "outputs": [
        {
          "output_type": "execute_result",
          "data": {
            "text/plain": [
              "array([85, 10, 68,  3, 26, 98,  2, 27, 40, 32, 60, 18, 96, 23, 20])"
            ]
          },
          "metadata": {},
          "execution_count": 113
        }
      ]
    },
    {
      "cell_type": "code",
      "source": [
        "np.flip(a)"
      ],
      "metadata": {
        "colab": {
          "base_uri": "https://localhost:8080/"
        },
        "id": "YNzlqMXMROyn",
        "outputId": "5419072e-33a7-4bc5-f045-2b71ea049cbd"
      },
      "execution_count": null,
      "outputs": [
        {
          "output_type": "execute_result",
          "data": {
            "text/plain": [
              "array([20, 23, 96, 18, 60, 32, 40, 27,  2, 98, 26,  3, 68, 10, 85])"
            ]
          },
          "metadata": {},
          "execution_count": 112
        }
      ]
    },
    {
      "cell_type": "markdown",
      "source": [
        "# np.put()\n",
        "The numpy.put() function replaces specific elements of an array with given values of p_array. Array indexed works on flattened array."
      ],
      "metadata": {
        "id": "uvbG3kkSRZR_"
      }
    },
    {
      "cell_type": "code",
      "source": [
        "#code\n",
        "a"
      ],
      "metadata": {
        "colab": {
          "base_uri": "https://localhost:8080/"
        },
        "id": "GbTjCLD5RcWK",
        "outputId": "477bdb70-eeee-41a0-942d-c5bc8f084516"
      },
      "execution_count": null,
      "outputs": [
        {
          "output_type": "execute_result",
          "data": {
            "text/plain": [
              "array([85, 10, 68,  3, 26, 98,  2, 27, 40, 32, 60, 18, 96, 23, 20])"
            ]
          },
          "metadata": {},
          "execution_count": 114
        }
      ]
    },
    {
      "cell_type": "code",
      "source": [
        "np.put(a,[0,1],[110,530])"
      ],
      "metadata": {
        "id": "5EJ7mR79SJvq"
      },
      "execution_count": null,
      "outputs": []
    },
    {
      "cell_type": "code",
      "source": [
        "a"
      ],
      "metadata": {
        "colab": {
          "base_uri": "https://localhost:8080/"
        },
        "id": "4XpqrQMXvBRG",
        "outputId": "be91cd87-3abb-4bb3-a27d-d1ebff7689c8"
      },
      "execution_count": null,
      "outputs": [
        {
          "output_type": "execute_result",
          "data": {
            "text/plain": [
              "array([110, 530,  68,   3,  26,  98,   2,  27,  40,  32,  60,  18,  96,\n",
              "        23,  20])"
            ]
          },
          "metadata": {},
          "execution_count": 117
        }
      ]
    },
    {
      "cell_type": "code",
      "source": [],
      "metadata": {
        "id": "ka_EN-DhvBP4"
      },
      "execution_count": null,
      "outputs": []
    },
    {
      "cell_type": "markdown",
      "source": [
        "# np.delete()\n",
        "The numpy.delete() function returns a new array with the deletion of sub-arrays along with the mentioned axis."
      ],
      "metadata": {
        "id": "iAKJAW78SZyd"
      }
    },
    {
      "cell_type": "code",
      "source": [
        "np.delete(a,0)"
      ],
      "metadata": {
        "id": "TW9eKgYBSfy4"
      },
      "execution_count": null,
      "outputs": []
    },
    {
      "cell_type": "markdown",
      "source": [
        "### Set functions\n",
        "\n",
        "- np.union1d\n",
        "- np.intersect1d\n",
        "- np.setdiff1d\n",
        "- np.setxor1d\n",
        "- np.in1d"
      ],
      "metadata": {
        "id": "Ssfckh03S1ny"
      }
    },
    {
      "cell_type": "code",
      "source": [
        "m=np.array([1,2,3,4,5])\n",
        "n=np.array([3,4,5,6,7])\n",
        "\n",
        "np.union1d(m,n)"
      ],
      "metadata": {
        "id": "xNhTHjc6TMUN"
      },
      "execution_count": null,
      "outputs": []
    },
    {
      "cell_type": "code",
      "source": [
        "np.intersect1d(m,n)"
      ],
      "metadata": {
        "id": "M0EdQsoYTfaN"
      },
      "execution_count": null,
      "outputs": []
    },
    {
      "cell_type": "code",
      "source": [
        "np.setdiff1d(m,n)"
      ],
      "metadata": {
        "id": "RzPmhrE3Tj0F"
      },
      "execution_count": null,
      "outputs": []
    },
    {
      "cell_type": "code",
      "source": [
        "np.setxor1d(m,n)"
      ],
      "metadata": {
        "id": "R9RzQ9T6Tp6Y"
      },
      "execution_count": null,
      "outputs": []
    },
    {
      "cell_type": "code",
      "source": [
        "m[np.in1d(m,1)]"
      ],
      "metadata": {
        "id": "P-q_3c9fTy3N"
      },
      "execution_count": null,
      "outputs": []
    },
    {
      "cell_type": "markdown",
      "source": [
        "# numpy.clip()\n",
        "function is used to Clip (limit) the values in an array."
      ],
      "metadata": {
        "id": "NyOrQKaDT-qL"
      }
    },
    {
      "cell_type": "code",
      "source": [
        "np.clip(a,a_min=25,a_max=75)"
      ],
      "metadata": {
        "colab": {
          "base_uri": "https://localhost:8080/"
        },
        "id": "C1Q0Z_NmUu0N",
        "outputId": "81fd13d7-729e-4640-98f8-befdcc6217a1"
      },
      "execution_count": null,
      "outputs": [
        {
          "output_type": "execute_result",
          "data": {
            "text/plain": [
              "array([75, 75, 68, 25, 26, 75, 25, 27, 40, 32, 60, 25, 75, 25, 25])"
            ]
          },
          "metadata": {},
          "execution_count": 118
        }
      ]
    }
  ]
}